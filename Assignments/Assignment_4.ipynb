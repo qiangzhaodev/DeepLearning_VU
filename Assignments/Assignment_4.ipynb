{
  "nbformat": 4,
  "nbformat_minor": 0,
  "metadata": {
    "colab": {
      "provenance": []
    },
    "kernelspec": {
      "name": "python3",
      "display_name": "Python 3"
    },
    "accelerator": "GPU"
  },
  "cells": [
    {
      "cell_type": "markdown",
      "metadata": {
        "id": "aJ_pmgxvGur9"
      },
      "source": [
        "# Assignment 4b - Graph Convolutional Networks\n",
        "## Deep Learning Course - Vrije Universiteit Amsterdam, 2022"
      ]
    },
    {
      "cell_type": "markdown",
      "metadata": {
        "id": "mEneMITS2agU"
      },
      "source": [
        "#### Instructions on how to use this notebook:\n",
        "\n",
        "This notebook is hosted on Google Colab. To be able to work on it, you have to create your own copy. Go to *File* and select *Save a copy in Drive*.\n",
        "\n",
        "You can also avoid using Colab entirely, and download the notebook to run it on your own machine. If you choose this, go to *File* and select *Download .ipynb*.\n",
        "\n",
        "The advantage of using Colab is that you can use a GPU. You can complete this assignment with a CPU, but it will take a bit longer. Furthermore, we encourage you to train using the GPU not only for faster training, but also to get experience with this setting. This includes moving models and tensors to the GPU and back. This experience is very valuable because for many interesting models and large datasets (like large CNNs for ImageNet, or Transformer models trained on Wikipedia), training on GPU is the only feasible way.\n",
        "\n",
        "The default Colab runtime does not have a GPU. To change this, go to *Runtime - Change runtime type*, and select *GPU* as the hardware accelerator. The GPU that you get changes according to what resources are available at the time, and its memory can go from a 5GB, to around 18GB if you are lucky. If you are curious, you can run the following in a code cell to check:\n",
        "\n",
        "```sh\n",
        "!nvidia-smi\n",
        "```\n",
        "\n",
        "Note that despite the name, Google Colab does  not support collaborative work without issues. When two or more people edit the notebook concurrently, only one version will be saved. You can choose to do group programming with one person sharing the screen with the others, or make multiple copies of the notebook to work concurrently.\n",
        "\n",
        "**Submission:** Upload your notebook in .ipynb format to Canvas. The code and answers to the questions in the notebook are sufficient, no separate report is expected."
      ]
    },
    {
      "cell_type": "code",
      "metadata": {
        "id": "lBgoJIpdLI2Y",
        "colab": {
          "base_uri": "https://localhost:8080/"
        },
        "outputId": "1624abee-2d4a-4137-baed-2676e5e9c299"
      },
      "source": [
        "!nvidia-smi"
      ],
      "execution_count": null,
      "outputs": [
        {
          "output_type": "stream",
          "name": "stdout",
          "text": [
            "Sat Dec  9 22:47:58 2023       \n",
            "+-----------------------------------------------------------------------------+\n",
            "| NVIDIA-SMI 525.105.17   Driver Version: 525.105.17   CUDA Version: 12.0     |\n",
            "|-------------------------------+----------------------+----------------------+\n",
            "| GPU  Name        Persistence-M| Bus-Id        Disp.A | Volatile Uncorr. ECC |\n",
            "| Fan  Temp  Perf  Pwr:Usage/Cap|         Memory-Usage | GPU-Util  Compute M. |\n",
            "|                               |                      |               MIG M. |\n",
            "|===============================+======================+======================|\n",
            "|   0  Tesla T4            Off  | 00000000:00:04.0 Off |                    0 |\n",
            "| N/A   36C    P8     9W /  70W |      0MiB / 15360MiB |      0%      Default |\n",
            "|                               |                      |                  N/A |\n",
            "+-------------------------------+----------------------+----------------------+\n",
            "                                                                               \n",
            "+-----------------------------------------------------------------------------+\n",
            "| Processes:                                                                  |\n",
            "|  GPU   GI   CI        PID   Type   Process name                  GPU Memory |\n",
            "|        ID   ID                                                   Usage      |\n",
            "|=============================================================================|\n",
            "|  No running processes found                                                 |\n",
            "+-----------------------------------------------------------------------------+\n"
          ]
        }
      ]
    },
    {
      "cell_type": "markdown",
      "metadata": {
        "id": "tsdc7fDp40rQ"
      },
      "source": [
        "### Introduction\n",
        "\n",
        "Graphs are very useful data structures that allow us to represent sets of entities and the way they are related among each other. In a graph, entities are also known as *nodes*, and any link between entities is also called an *edge*.\n",
        "\n",
        "Examples of real world objects that can be modeled as graphs are social networks, where entities are people and relations denote friendship; and molecules, where entities are atoms and relations indicate a bond between them.\n",
        "\n",
        "There has been increased interest in the recent years in the application of deep learning architectures to graph-structured data, for tasks like predicting missing relations between entities, classifying entities, and classifying graphs. This interest has been spurred by the introduction of Graph Convolutional Networks (GCNs).\n",
        "\n",
        "In this assignment, you will implement and experiment with one of the first versions of the GCN, proposed by Thomas Kipf and Max Welling in their 2017 paper, [Semi-supervised Classification with Graph Convolutional Networks](https://arxiv.org/abs/1609.02907). In particular, the goals of this assignment are to\n",
        "\n",
        "- Understand how GCNs are formulated\n",
        "- Implement the GCN using PyTorch\n",
        "- Train and evaluate a model for semi-supervised node classification in citation networks\n",
        "- Train and evaluate a model for binary classification of molecules"
      ]
    },
    {
      "cell_type": "markdown",
      "metadata": {
        "id": "RvsuVNczG6pP"
      },
      "source": [
        "### Representing graphs\n",
        "\n",
        "Suppose we have the following graph:\n",
        "\n",
        "<img src=\"https://raw.githubusercontent.com/dfdazac/dlvu-a5/main/img/01-graph.png\" width=\"200\">\n",
        "\n",
        "This is an undirected graph (since the edges have no specified direction) with 4 nodes. One way to represent the connectivity structure of the graph is by means of the **adjacency matrix**. The $i$-th row of the matrix contains a 1 in the $j$-th column, if nodes $i$ and $j$ are connected. For an undirected graph like the one above, this means that the adjacency matrix\n",
        "\n",
        "- Is symmetric (e.g. an edge between 0 and 2 is equivalent as an edge between 2 and 0)\n",
        "- Is square, of size $n\\times n$ where $n$ is the number of nodes\n",
        "\n",
        "The adjacency matrix for the graph above is then the following:\n",
        "\n",
        "$$\n",
        "A =\n",
        "\\begin{bmatrix}\n",
        "0 & 0 & 1 & 0 \\\\\n",
        "0 & 0 & 1 & 0 \\\\\n",
        "1 & 1 & 0 & 1 \\\\\n",
        "0 & 0 & 1 & 0\n",
        "\\end{bmatrix}\n",
        "$$\n",
        "\n",
        "A second matrix of interest is the **degree matrix**. This is a diagonal matrix where the $i$-th element of the diagonal indicates the number of edges connected to node $i$. Note that these can be obtained from $A$ by summing across the columns, or the rows. For our example, the degree matrix is\n",
        "\n",
        "$$\n",
        "D = \\begin{bmatrix}\n",
        "1 & 0 & 0 & 0 \\\\\n",
        "0 & 1 & 0 & 0 \\\\\n",
        "0 & 0 & 3 & 0 \\\\\n",
        "0 & 0 & 0 & 1\n",
        "\\end{bmatrix}\n",
        "$$\n",
        "\n",
        "For specific applications, each node in the graph will have an associated vector of features $x\\in\\mathbb{R}^c$. If our graph is a social network, then the vector of features can contain information like age, location, and musical tastes, in a specific numeric format. In the case of a molecule, the node could represent an atom and have features like the atomic mass, etc. We can lay out the features in a matrix $X\\in\\mathbb{R}^{n\\times c}$, so that the feature vector for node $i$ is in the $i$-th row."
      ]
    },
    {
      "cell_type": "markdown",
      "metadata": {
        "id": "zCEQ2ffzHCf2"
      },
      "source": [
        "### Loading a citation network\n",
        "\n",
        "To move to a real world example, we will start with the Cora dataset. This dataset represents a citation network, where nodes are scientific publications, edges denote citations between them, and features are a [bag-of-words](https://en.wikipedia.org/wiki/Bag-of-words_model) extracted from their contents.\n",
        "\n",
        "This graph contains labels for nodes, that represent a specific topic. We will use these for a node classification task.\n",
        "\n",
        "To easily load it, we will use [PyTorch Geometric](https://pytorch-geometric.readthedocs.io/en/latest/index.html) (PyG), a deep learning library for graph-structured data."
      ]
    },
    {
      "cell_type": "code",
      "metadata": {
        "id": "Yd2bTEBADt-a",
        "colab": {
          "base_uri": "https://localhost:8080/"
        },
        "outputId": "0121caa8-fd9d-477f-aa8c-18df271baa84"
      },
      "source": [
        "# Install PyTorch Geometric\n",
        "import torch\n",
        "try:\n",
        "    import torch_geometric\n",
        "except ModuleNotFoundError:\n",
        "    # Installing torch geometric packages with specific CUDA+PyTorch version.\n",
        "    # See https://pytorch-geometric.readthedocs.io/en/latest/notes/installation.html for details\n",
        "    TORCH = torch.__version__.split('+')[0]\n",
        "    CUDA = 'cu' + torch.version.cuda.replace('.','')\n",
        "\n",
        "    !pip install torch-scatter     -f https://pytorch-geometric.com/whl/torch-{TORCH}+{CUDA}.html\n",
        "    !pip install torch-sparse      -f https://pytorch-geometric.com/whl/torch-{TORCH}+{CUDA}.html\n",
        "    !pip install torch-geometric\n",
        "    import torch_geometric"
      ],
      "execution_count": 2,
      "outputs": [
        {
          "output_type": "stream",
          "name": "stdout",
          "text": [
            "Looking in links: https://pytorch-geometric.com/whl/torch-2.1.0+cu121.html\n",
            "Collecting torch-scatter\n",
            "  Downloading https://data.pyg.org/whl/torch-2.1.0%2Bcu121/torch_scatter-2.1.2%2Bpt21cu121-cp310-cp310-linux_x86_64.whl (10.8 MB)\n",
            "\u001b[2K     \u001b[90m━━━━━━━━━━━━━━━━━━━━━━━━━━━━━━━━━━━━━━━━\u001b[0m \u001b[32m10.8/10.8 MB\u001b[0m \u001b[31m32.8 MB/s\u001b[0m eta \u001b[36m0:00:00\u001b[0m\n",
            "\u001b[?25hInstalling collected packages: torch-scatter\n",
            "Successfully installed torch-scatter-2.1.2+pt21cu121\n",
            "Looking in links: https://pytorch-geometric.com/whl/torch-2.1.0+cu121.html\n",
            "Collecting torch-sparse\n",
            "  Downloading https://data.pyg.org/whl/torch-2.1.0%2Bcu121/torch_sparse-0.6.18%2Bpt21cu121-cp310-cp310-linux_x86_64.whl (5.0 MB)\n",
            "\u001b[2K     \u001b[90m━━━━━━━━━━━━━━━━━━━━━━━━━━━━━━━━━━━━━━━━\u001b[0m \u001b[32m5.0/5.0 MB\u001b[0m \u001b[31m52.4 MB/s\u001b[0m eta \u001b[36m0:00:00\u001b[0m\n",
            "\u001b[?25hRequirement already satisfied: scipy in /usr/local/lib/python3.10/dist-packages (from torch-sparse) (1.11.4)\n",
            "Requirement already satisfied: numpy<1.28.0,>=1.21.6 in /usr/local/lib/python3.10/dist-packages (from scipy->torch-sparse) (1.23.5)\n",
            "Installing collected packages: torch-sparse\n",
            "Successfully installed torch-sparse-0.6.18+pt21cu121\n",
            "Collecting torch-geometric\n",
            "  Downloading torch_geometric-2.4.0-py3-none-any.whl (1.0 MB)\n",
            "\u001b[2K     \u001b[90m━━━━━━━━━━━━━━━━━━━━━━━━━━━━━━━━━━━━━━━━\u001b[0m \u001b[32m1.0/1.0 MB\u001b[0m \u001b[31m7.9 MB/s\u001b[0m eta \u001b[36m0:00:00\u001b[0m\n",
            "\u001b[?25hRequirement already satisfied: tqdm in /usr/local/lib/python3.10/dist-packages (from torch-geometric) (4.66.1)\n",
            "Requirement already satisfied: numpy in /usr/local/lib/python3.10/dist-packages (from torch-geometric) (1.23.5)\n",
            "Requirement already satisfied: scipy in /usr/local/lib/python3.10/dist-packages (from torch-geometric) (1.11.4)\n",
            "Requirement already satisfied: jinja2 in /usr/local/lib/python3.10/dist-packages (from torch-geometric) (3.1.2)\n",
            "Requirement already satisfied: requests in /usr/local/lib/python3.10/dist-packages (from torch-geometric) (2.31.0)\n",
            "Requirement already satisfied: pyparsing in /usr/local/lib/python3.10/dist-packages (from torch-geometric) (3.1.1)\n",
            "Requirement already satisfied: scikit-learn in /usr/local/lib/python3.10/dist-packages (from torch-geometric) (1.2.2)\n",
            "Requirement already satisfied: psutil>=5.8.0 in /usr/local/lib/python3.10/dist-packages (from torch-geometric) (5.9.5)\n",
            "Requirement already satisfied: MarkupSafe>=2.0 in /usr/local/lib/python3.10/dist-packages (from jinja2->torch-geometric) (2.1.3)\n",
            "Requirement already satisfied: charset-normalizer<4,>=2 in /usr/local/lib/python3.10/dist-packages (from requests->torch-geometric) (3.3.2)\n",
            "Requirement already satisfied: idna<4,>=2.5 in /usr/local/lib/python3.10/dist-packages (from requests->torch-geometric) (3.6)\n",
            "Requirement already satisfied: urllib3<3,>=1.21.1 in /usr/local/lib/python3.10/dist-packages (from requests->torch-geometric) (2.0.7)\n",
            "Requirement already satisfied: certifi>=2017.4.17 in /usr/local/lib/python3.10/dist-packages (from requests->torch-geometric) (2023.11.17)\n",
            "Requirement already satisfied: joblib>=1.1.1 in /usr/local/lib/python3.10/dist-packages (from scikit-learn->torch-geometric) (1.3.2)\n",
            "Requirement already satisfied: threadpoolctl>=2.0.0 in /usr/local/lib/python3.10/dist-packages (from scikit-learn->torch-geometric) (3.2.0)\n",
            "Installing collected packages: torch-geometric\n",
            "Successfully installed torch-geometric-2.4.0\n"
          ]
        }
      ]
    },
    {
      "cell_type": "markdown",
      "metadata": {
        "id": "V0Nvh_-qEo1q"
      },
      "source": [
        "We can now use the library to download and import the dataset. Initializing the `Planetoid` class returns a `Dataset` object that can contain multiple graphs. In this task we will only use the `Cora` dataset (the citation network) and hence, we will select only the first element."
      ]
    },
    {
      "cell_type": "code",
      "metadata": {
        "id": "vuOvwhsHD2YK",
        "colab": {
          "base_uri": "https://localhost:8080/"
        },
        "outputId": "5149bde7-ce89-4e25-9aff-cb334e71355c"
      },
      "source": [
        "from torch_geometric.datasets import Planetoid\n",
        "data = Planetoid(root='data/Planetoid', name='Cora')[0]"
      ],
      "execution_count": null,
      "outputs": [
        {
          "output_type": "stream",
          "name": "stderr",
          "text": [
            "Downloading https://github.com/kimiyoung/planetoid/raw/master/data/ind.cora.x\n",
            "Downloading https://github.com/kimiyoung/planetoid/raw/master/data/ind.cora.tx\n",
            "Downloading https://github.com/kimiyoung/planetoid/raw/master/data/ind.cora.allx\n",
            "Downloading https://github.com/kimiyoung/planetoid/raw/master/data/ind.cora.y\n",
            "Downloading https://github.com/kimiyoung/planetoid/raw/master/data/ind.cora.ty\n",
            "Downloading https://github.com/kimiyoung/planetoid/raw/master/data/ind.cora.ally\n",
            "Downloading https://github.com/kimiyoung/planetoid/raw/master/data/ind.cora.graph\n",
            "Downloading https://github.com/kimiyoung/planetoid/raw/master/data/ind.cora.test.index\n",
            "Processing...\n",
            "Done!\n"
          ]
        }
      ]
    },
    {
      "cell_type": "markdown",
      "metadata": {
        "id": "v4WZkoiHFyZm"
      },
      "source": [
        "\n",
        "#### Question 1 (0.25 pt)\n",
        "\n",
        "The `data` object is an instance of the `Data` class in PyG. Check the [documentation](https://pytorch-geometric.readthedocs.io/en/latest/modules/data.html) and report the following properties of the graph:\n",
        "\n",
        "- Number of nodes\n",
        "- Number of edges\n",
        "- The dimension $c$ of the feature vectors $x\\in\\mathbb{R}^c$\n",
        "- The number of targets for the classification task"
      ]
    },
    {
      "cell_type": "code",
      "metadata": {
        "id": "sjVuGJhlJC_7",
        "colab": {
          "base_uri": "https://localhost:8080/"
        },
        "outputId": "859c769e-4209-4f5e-dc9c-0ddb8dc80c66"
      },
      "source": [
        "num_nodes = print(\"number of nodes:\", data.num_nodes)\n",
        "num_edges = print(\"number of edges:\", data.edge_index.size(1))\n",
        "feature_dim = print(\"dimension  𝑐  of the feature vectors  𝑥∈ℝ𝑐:\", data.x.size(1))\n",
        "num_classes = print(\"number of targets for the classification task:\", len(torch.unique(data.y)))\n"
      ],
      "execution_count": null,
      "outputs": [
        {
          "output_type": "stream",
          "name": "stdout",
          "text": [
            "number of nodes: 2708\n",
            "number of edges: 10556\n",
            "dimension  𝑐  of the feature vectors  𝑥∈ℝ𝑐: 1433\n",
            "number of targets for the classification task: 7\n"
          ]
        }
      ]
    },
    {
      "cell_type": "markdown",
      "metadata": {
        "id": "G4DrGDAuJ2YO"
      },
      "source": [
        "#### Question 2 (0.25 pt)\n",
        "\n",
        "In PyG, edges are provided in a tensor of shape (2, number of edges). You can access it via `data.edge_index`. Each column in this tensor contains the IDs for two nodes that are connected in the graph.\n",
        "\n",
        "We saw that in an undirected graph, an edge between nodes $i$ and $j$ adds a value of 1 to positions $(i, j)$ and $(j, i)$ of the adjacency matrix. Is this also true for the edge index? That is, if there is an edge $(i, j)$ in `data.edge_index`, is there also an edge for $(j, i)$? This is important to know for the next steps of the implementation."
      ]
    },
    {
      "cell_type": "code",
      "metadata": {
        "id": "jTRfNxibarRZ",
        "colab": {
          "base_uri": "https://localhost:8080/"
        },
        "outputId": "4c762ad8-e6dd-44b1-e047-e71e237488c6"
      },
      "source": [
        "import torch\n",
        "from torch_geometric.datasets import Planetoid\n",
        "\n",
        "data = Planetoid(root='data/Planetoid', name='Cora')[0]\n",
        "\n",
        "edge_index = data.edge_index\n",
        "\n",
        "edges = set(tuple(edge) for edge in edge_index.t().tolist())\n",
        "\n",
        "undirected = all((edge[1], edge[0]) in edges for edge in edges)\n",
        "\n",
        "if undirected:\n",
        "    print(\"graph is undirected\")\n",
        "else:\n",
        "    print(\"graph is directed\")\n"
      ],
      "execution_count": null,
      "outputs": [
        {
          "output_type": "stream",
          "name": "stdout",
          "text": [
            "graph is undirected\n"
          ]
        }
      ]
    },
    {
      "cell_type": "markdown",
      "metadata": {
        "id": "YOpS3QTYiOqp"
      },
      "source": [
        "#### Question 3 (0.5 pt)\n",
        "\n",
        "In graphs, especially large ones, the adjacency matrix is **sparse**: most entries are zero. Sparse matrices allow for efficient storage and computation.\n",
        "\n",
        "To prepare and pre-process sparse matrices, we will use [`scipy.sparse`](https://docs.scipy.org/doc/scipy/reference/sparse.html). Once the matrices are ready, we will convert them to PyTorch tensors.\n",
        "\n",
        "We will use the [Sparse COO format](https://en.wikipedia.org/wiki/Sparse_matrix#Coordinate_list_(COO)). We encourage you to first get familiar with how it works after continuing with the assignment.\n",
        "\n",
        "- Use the [`scipy.sparse.coo_matrix()`](https://docs.scipy.org/doc/scipy/reference/generated/scipy.sparse.coo_matrix.html) function to build the adjacency matrix. Think of what arguments are needed, and how you can obtain them from the graph data loaded above.\n",
        "- Use the `sum()` method of sparse matrices, together with `scipy.sparse.diags()`, to compute the degree matrix using the definition above.\n",
        "\n",
        "Both resulting matrices must be sparse of type `float32`."
      ]
    },
    {
      "cell_type": "code",
      "metadata": {
        "id": "QC01OjbJs92-",
        "colab": {
          "base_uri": "https://localhost:8080/"
        },
        "outputId": "cef6465a-ec3d-4ba6-afe5-31ff7e3212e6"
      },
      "source": [
        "import torch\n",
        "from torch_geometric.datasets import Planetoid\n",
        "from scipy.sparse import coo_matrix\n",
        "import numpy as np\n",
        "\n",
        "data = Planetoid(root='data/Planetoid', name='Cora')[0]\n",
        "\n",
        "num_nodes = data.num_nodes\n",
        "\n",
        "edge_index = data.edge_index.numpy()\n",
        "rows, cols = edge_index\n",
        "adj_matrix = coo_matrix((np.ones(len(rows)), (rows, cols)), shape=(num_nodes, num_nodes), dtype=np.float32)\n",
        "\n",
        "degrees = np.array(adj_matrix.sum(axis=1)).flatten()\n",
        "degree_matrix = coo_matrix((degrees, (np.arange(num_nodes), np.arange(num_nodes))), shape=(num_nodes, num_nodes), dtype=np.float32)\n",
        "\n",
        "print(\"adjacency matrix:\")\n",
        "print(adj_matrix)\n",
        "\n",
        "print(\"degree matrix:\")\n",
        "print(degree_matrix)\n",
        "\n"
      ],
      "execution_count": null,
      "outputs": [
        {
          "output_type": "stream",
          "name": "stdout",
          "text": [
            "adjacency matrix:\n",
            "  (0, 633)\t1.0\n",
            "  (0, 1862)\t1.0\n",
            "  (0, 2582)\t1.0\n",
            "  (1, 2)\t1.0\n",
            "  (1, 652)\t1.0\n",
            "  (1, 654)\t1.0\n",
            "  (2, 1)\t1.0\n",
            "  (2, 332)\t1.0\n",
            "  (2, 1454)\t1.0\n",
            "  (2, 1666)\t1.0\n",
            "  (2, 1986)\t1.0\n",
            "  (3, 2544)\t1.0\n",
            "  (4, 1016)\t1.0\n",
            "  (4, 1256)\t1.0\n",
            "  (4, 1761)\t1.0\n",
            "  (4, 2175)\t1.0\n",
            "  (4, 2176)\t1.0\n",
            "  (5, 1629)\t1.0\n",
            "  (5, 1659)\t1.0\n",
            "  (5, 2546)\t1.0\n",
            "  (6, 373)\t1.0\n",
            "  (6, 1042)\t1.0\n",
            "  (6, 1416)\t1.0\n",
            "  (6, 1602)\t1.0\n",
            "  (7, 208)\t1.0\n",
            "  :\t:\n",
            "  (2694, 431)\t1.0\n",
            "  (2694, 2695)\t1.0\n",
            "  (2695, 431)\t1.0\n",
            "  (2695, 2694)\t1.0\n",
            "  (2696, 2615)\t1.0\n",
            "  (2697, 986)\t1.0\n",
            "  (2698, 1400)\t1.0\n",
            "  (2698, 1573)\t1.0\n",
            "  (2699, 2630)\t1.0\n",
            "  (2700, 1151)\t1.0\n",
            "  (2701, 44)\t1.0\n",
            "  (2701, 2624)\t1.0\n",
            "  (2702, 186)\t1.0\n",
            "  (2702, 1536)\t1.0\n",
            "  (2703, 1298)\t1.0\n",
            "  (2704, 641)\t1.0\n",
            "  (2705, 287)\t1.0\n",
            "  (2706, 165)\t1.0\n",
            "  (2706, 169)\t1.0\n",
            "  (2706, 1473)\t1.0\n",
            "  (2706, 2707)\t1.0\n",
            "  (2707, 165)\t1.0\n",
            "  (2707, 598)\t1.0\n",
            "  (2707, 1473)\t1.0\n",
            "  (2707, 2706)\t1.0\n",
            "degree matrix:\n",
            "  (0, 0)\t3.0\n",
            "  (1, 1)\t3.0\n",
            "  (2, 2)\t5.0\n",
            "  (3, 3)\t1.0\n",
            "  (4, 4)\t5.0\n",
            "  (5, 5)\t3.0\n",
            "  (6, 6)\t4.0\n",
            "  (7, 7)\t1.0\n",
            "  (8, 8)\t3.0\n",
            "  (9, 9)\t2.0\n",
            "  (10, 10)\t2.0\n",
            "  (11, 11)\t2.0\n",
            "  (12, 12)\t4.0\n",
            "  (13, 13)\t2.0\n",
            "  (14, 14)\t5.0\n",
            "  (15, 15)\t4.0\n",
            "  (16, 16)\t4.0\n",
            "  (17, 17)\t5.0\n",
            "  (18, 18)\t5.0\n",
            "  (19, 19)\t1.0\n",
            "  (20, 20)\t5.0\n",
            "  (21, 21)\t2.0\n",
            "  (22, 22)\t5.0\n",
            "  (23, 23)\t1.0\n",
            "  (24, 24)\t7.0\n",
            "  :\t:\n",
            "  (2683, 2683)\t1.0\n",
            "  (2684, 2684)\t2.0\n",
            "  (2685, 2685)\t4.0\n",
            "  (2686, 2686)\t2.0\n",
            "  (2687, 2687)\t2.0\n",
            "  (2688, 2688)\t3.0\n",
            "  (2689, 2689)\t2.0\n",
            "  (2690, 2690)\t1.0\n",
            "  (2691, 2691)\t2.0\n",
            "  (2692, 2692)\t1.0\n",
            "  (2693, 2693)\t1.0\n",
            "  (2694, 2694)\t2.0\n",
            "  (2695, 2695)\t2.0\n",
            "  (2696, 2696)\t1.0\n",
            "  (2697, 2697)\t1.0\n",
            "  (2698, 2698)\t2.0\n",
            "  (2699, 2699)\t1.0\n",
            "  (2700, 2700)\t1.0\n",
            "  (2701, 2701)\t2.0\n",
            "  (2702, 2702)\t2.0\n",
            "  (2703, 2703)\t1.0\n",
            "  (2704, 2704)\t1.0\n",
            "  (2705, 2705)\t1.0\n",
            "  (2706, 2706)\t4.0\n",
            "  (2707, 2707)\t4.0\n"
          ]
        }
      ]
    },
    {
      "cell_type": "markdown",
      "metadata": {
        "id": "AIEJyQi2TzyY"
      },
      "source": [
        "You might wonder why we suggest to use a scipy sparse matrix, while also PyTorch supports them. The reason is that in the next step, we will be multiplying two sparse matrices, an operation not supported in PyTorch. PyTorch only allows multiplying a sparse matrix with a dense one, something which we will be doing at a later stage.\n",
        "\n"
      ]
    },
    {
      "cell_type": "markdown",
      "metadata": {
        "id": "YlmzSb0up4LB"
      },
      "source": [
        "### The Graph Convolutional Network\n",
        "\n",
        "The goal of the graph convolution is to take the feature vectors of all nodes $X\\in\\mathbb{R}^{n\\times c}$, and propagate them along the existing edges, to obtain updated representations $Z\\in\\mathbb{R}^{n\\times d}$.\n",
        "\n",
        "\n",
        "The GCN is initially motivated as performing a convolution, similarly as it is done in CNNs for images, for graph-structured data. In Kipf and Welling (2017), a theoretical derivation leads to the following formula:\n",
        "\n",
        "$$\n",
        "Z = \\tilde{D}^{-\\frac{1}{2}}\\tilde{A}\\tilde{D}^{-\\frac{1}{2}}XW\n",
        "$$\n",
        "\n",
        "where\n",
        "\n",
        "- $W\\in\\mathbb{R}^{c\\times d}$ is a matrix of parameters to be learned via gradient descent\n",
        "- $\\tilde{A} = A + I_n$, where $I_n$ is an $n\\times n$ identity matrix\n",
        "- $\\tilde{D}$ is the degree matrix computed with $\\tilde{A}$ as the adjacency matrix\n",
        "\n",
        "If we define $\\hat{A} = \\tilde{D}^{-\\frac{1}{2}}\\tilde{A}\\tilde{D}^{-\\frac{1}{2}}$, the graph convolution can be written as $Z = \\hat{A}XW$."
      ]
    },
    {
      "cell_type": "markdown",
      "metadata": {
        "id": "LL4b-MTvysBp"
      },
      "source": [
        "#### Question 4 (0.25 pt)\n",
        "\n",
        "Given the formula for the GCN, explain why it operates by propagating feature vectors across the graph. To answer this, it might be useful to recall the definitions of the adjacency and degree matrices, and how they are involved in the formula."
      ]
    },
    {
      "cell_type": "markdown",
      "metadata": {
        "id": "Vgx2SkTTyiSN"
      },
      "source": [
        "*Your answer here*"
      ]
    },
    {
      "cell_type": "markdown",
      "source": [
        "\n",
        "\n",
        "The GCN formula:Z = D^(-1/2) * A* D~^(-1/2) * X * W operates by propagating and transforming node features across the graph. A is the adjacency matrix with loops which is obtained by adding the identity matrix to the original adjacency matrix. The addition of loops allows each node to consider its own features along with its neighbors’. D is the degree matrix of A, which counts the connections including its own edges for each node. The formula normalizes A with D^(-1/2) on both sides to balance the influence of each node,. This prevents nodes with many connections from dominating the feature updating process. When this normalized adjacency matrix is multiplied by the feature matrix X, it blends each node's features with those of its neighbors which allowed information to flow through the graph. The final multiplication with the weight matrix, W transforms these features. This is similar to layers in traditional neural networks. This enables GCNs to effectively capture both the graph's structural and the nodes information.\n"
      ],
      "metadata": {
        "id": "qkrDYEHZ0Ykr"
      }
    },
    {
      "cell_type": "markdown",
      "metadata": {
        "id": "QUGABEqxylsd"
      },
      "source": [
        "#### Question 5 (0.5 pt)\n",
        "\n",
        "Compute the **normalized adjacency matrix** $\\hat{A}$. The result should be a sparse matrix."
      ]
    },
    {
      "cell_type": "code",
      "metadata": {
        "id": "GPZbnSaSyDzO",
        "colab": {
          "base_uri": "https://localhost:8080/"
        },
        "outputId": "b7ad7a1f-f0c9-41f6-f826-1c2e9417de63"
      },
      "source": [
        "from scipy.sparse import identity\n",
        "\n",
        "adj_self_loops = adj_matrix + identity(num_nodes)\n",
        "\n",
        "deg_self_loops = np.array(adj_self_loops.sum(axis=1)).flatten()\n",
        "deg_mat_self_loops = coo_matrix((np.power(deg_self_loops, -0.5), (np.arange(num_nodes), np.arange(num_nodes))), shape=(num_nodes, num_nodes), dtype=np.float32)\n",
        "\n",
        "norm_adj = deg_mat_self_loops.dot(adj_self_loops).dot(deg_mat_self_loops)\n",
        "\n",
        "print(\"normalized adjacency matrix:\")\n",
        "print(norm_adj)\n",
        "\n",
        "\n"
      ],
      "execution_count": null,
      "outputs": [
        {
          "output_type": "stream",
          "name": "stdout",
          "text": [
            "normalized adjacency matrix:\n",
            "  (0, 0)\t0.25\n",
            "  (0, 633)\t0.25\n",
            "  (0, 1862)\t0.22360679507255554\n",
            "  (0, 2582)\t0.25\n",
            "  (1, 1)\t0.25\n",
            "  (1, 2)\t0.20412415266036987\n",
            "  (1, 652)\t0.28867512941360474\n",
            "  (1, 654)\t0.3535533845424652\n",
            "  (2, 1)\t0.20412415266036987\n",
            "  (2, 2)\t0.16666667879725594\n",
            "  (2, 332)\t0.16666667879725594\n",
            "  (2, 1454)\t0.2886751401597465\n",
            "  (2, 1666)\t0.15430335304673193\n",
            "  (2, 1986)\t0.05025189181493417\n",
            "  (3, 3)\t0.4999999828857291\n",
            "  (3, 2544)\t0.4999999828857291\n",
            "  (4, 4)\t0.16666667879725594\n",
            "  (4, 1016)\t0.16666667879725594\n",
            "  (4, 1256)\t0.13608277249582912\n",
            "  (4, 1761)\t0.14433757007987325\n",
            "  (4, 2175)\t0.16666667879725594\n",
            "  (4, 2176)\t0.13608277249582912\n",
            "  (5, 5)\t0.25\n",
            "  (5, 1629)\t0.25\n",
            "  (5, 1659)\t0.28867512941360474\n",
            "  :\t:\n",
            "  (2699, 2699)\t0.4999999828857291\n",
            "  (2700, 1151)\t0.4082482761496564\n",
            "  (2700, 2700)\t0.4999999828857291\n",
            "  (2701, 44)\t0.28867512941360474\n",
            "  (2701, 2624)\t0.33333332136784577\n",
            "  (2701, 2701)\t0.33333332136784577\n",
            "  (2702, 186)\t0.21821788274037246\n",
            "  (2702, 1536)\t0.25819888202132546\n",
            "  (2702, 2702)\t0.33333332136784577\n",
            "  (2703, 1298)\t0.4999999828857291\n",
            "  (2703, 2703)\t0.4999999828857291\n",
            "  (2704, 641)\t0.4999999828857291\n",
            "  (2704, 2704)\t0.4999999828857291\n",
            "  (2705, 287)\t0.4999999828857291\n",
            "  (2705, 2705)\t0.4999999828857291\n",
            "  (2706, 165)\t0.1999999952104794\n",
            "  (2706, 169)\t0.25819888202132546\n",
            "  (2706, 1473)\t0.1999999952104794\n",
            "  (2706, 2706)\t0.1999999952104794\n",
            "  (2706, 2707)\t0.1999999952104794\n",
            "  (2707, 165)\t0.1999999952104794\n",
            "  (2707, 598)\t0.07669649645685173\n",
            "  (2707, 1473)\t0.1999999952104794\n",
            "  (2707, 2706)\t0.1999999952104794\n",
            "  (2707, 2707)\t0.1999999952104794\n"
          ]
        }
      ]
    },
    {
      "cell_type": "markdown",
      "metadata": {
        "id": "LLLdGdZoMEy-"
      },
      "source": [
        "#### Question 6 (0.5 pt)\n",
        "\n",
        "So far we have used scipy to build and compute sparse matrices. Since we want to train a GCN with PyTorch, we need to convert $\\hat{A}$ into a sparse PyTorch tensor. You can do this with the [`torch.sparse_coo_tensor()`](https://pytorch.org/docs/stable/generated/torch.sparse_coo_tensor.html) function, making sure to specify `torch.float` as the type."
      ]
    },
    {
      "cell_type": "code",
      "metadata": {
        "id": "dgDsVHzEM32F",
        "colab": {
          "base_uri": "https://localhost:8080/"
        },
        "outputId": "f7ec00ac-fe6b-41d0-fadc-4ef2c0377e84"
      },
      "source": [
        "import torch\n",
        "\n",
        "rows, cols = norm_adj.nonzero()\n",
        "values = norm_adj.data\n",
        "\n",
        "indices = torch.LongTensor([rows, cols])\n",
        "values_tensor = torch.FloatTensor(values)\n",
        "shape = norm_adj.shape\n",
        "\n",
        "norm_adj_matrix = torch.sparse_coo_tensor(indices, values_tensor, torch.Size(shape))\n",
        "\n",
        "print(\"normalized adjacency matrix:\")\n",
        "print(norm_adj_matrix )"
      ],
      "execution_count": null,
      "outputs": [
        {
          "output_type": "stream",
          "name": "stdout",
          "text": [
            "normalized adjacency matrix:\n",
            "tensor(indices=tensor([[   0,    0,    0,  ..., 2707, 2707, 2707],\n",
            "                       [   0,  633, 1862,  ..., 1473, 2706, 2707]]),\n",
            "       values=tensor([0.2500, 0.2500, 0.2236,  ..., 0.2000, 0.2000, 0.2000]),\n",
            "       size=(2708, 2708), nnz=13264, layout=torch.sparse_coo)\n"
          ]
        },
        {
          "output_type": "stream",
          "name": "stderr",
          "text": [
            "<ipython-input-8-9e42bf939c33>:6: UserWarning: Creating a tensor from a list of numpy.ndarrays is extremely slow. Please consider converting the list to a single numpy.ndarray with numpy.array() before converting to a tensor. (Triggered internally at ../torch/csrc/utils/tensor_new.cpp:261.)\n",
            "  indices = torch.LongTensor([rows, cols])\n"
          ]
        }
      ]
    },
    {
      "cell_type": "markdown",
      "metadata": {
        "id": "eAlRVT5aODkX"
      },
      "source": [
        "#### Question 7 (0.5 pt)\n",
        "\n",
        "We now have all the ingredients to build a GCN layer. Implement a class (inheriting from `torch.nn.Module`) with a learnable matrix of weights $W\\in\\mathbb{R}^{c\\times d}$. Make sure to\n",
        "\n",
        "- Call this class `GCNLayer`\n",
        "- The `__init__()` constructor should take as argument the number of input and output features.\n",
        "- Use `torch.nn.init.kaiming_uniform_` to initialize $W$.\n",
        "- Define the `forward` method, which takes as input $X$ and $\\hat{A}$ and returns $Z$. Note that multiplications involving the sparse matrix $\\hat{A}$ have to be done with `torch.spmm`.\n",
        "\n",
        "Once you have implemented the class, instantiate a layer with the correct number of input features for the Cora dataset, and a number of output features of your choice. Do a forward pass and report the shape of the output tensor."
      ]
    },
    {
      "cell_type": "code",
      "metadata": {
        "id": "JFCohhhwPpTT",
        "colab": {
          "base_uri": "https://localhost:8080/"
        },
        "outputId": "8b4a2cac-d446-44ea-9799-dfbcf5d4d591"
      },
      "source": [
        "# Your answer here\n",
        "import torch\n",
        "import torch_geometric\n",
        "import torch.nn as nn\n",
        "import torch.nn.functional as nnfunction\n",
        "from torch_geometric.datasets import Planetoid\n",
        "\n",
        "class GCNLayer(nn.Module):\n",
        "    def __init__(self,input_size,output_size):\n",
        "        super(GCNLayer, self).__init__()\n",
        "        # Create a learnable weight matrix using nn.parameter\n",
        "        w = nn.Parameter(torch.Tensor(input_size, output_size))\n",
        "        # Initialize W using kaiming_uniform\n",
        "        self.w = nn.init.kaiming_uniform_(w, mode='fan_in', nonlinearity='relu')\n",
        "\n",
        "    def forward(self,x,A_hat):\n",
        "        _ = torch.spmm(A_hat,x)\n",
        "        Z = torch.mm(_,self.w)\n",
        "        return Z\n",
        "\n",
        "input_features = data.x.size(1) #using feature_dim from question 1\n",
        "output_features = 5\n",
        "\n",
        "#  Instantiate GCNLayer\n",
        "demo_layer = GCNLayer(input_features, output_features)\n",
        "\n",
        "# Forward\n",
        "input_x = data.x # retrieve the feature matrix\n",
        "result = demo_layer.forward(input_x,norm_adj_matrix)\n",
        "\n",
        "print(\"The shape of the output is:\",result.shape)"
      ],
      "execution_count": null,
      "outputs": [
        {
          "output_type": "stream",
          "name": "stdout",
          "text": [
            "The shape of the output is: torch.Size([2708, 5])\n"
          ]
        }
      ]
    },
    {
      "cell_type": "markdown",
      "metadata": {
        "id": "1ptAiizZUKaM"
      },
      "source": [
        "#### Question 8 (0.5 pt)\n",
        "\n",
        "As we have seen so far, the GCN layer implements a special type of linear transformation of the inputs. However, it is often beneficial in deep learning to stack multiple, non-linear transformations of the input features. Implement a second module class for a model with two GCN layers (use the module you implemented in the previous question).\n",
        "\n",
        "- Call this class `GCN`\n",
        "- The constructor must now take as input the number of input features, the output dimension of the first layer (this is the hidden layer), and the output dimension of the output layer.\n",
        "- In the forward pass, add a ReLU activation function after the first layer."
      ]
    },
    {
      "cell_type": "code",
      "metadata": {
        "id": "2zhyu3S9Vj3b",
        "colab": {
          "base_uri": "https://localhost:8080/"
        },
        "outputId": "86bb2639-a895-48dc-8103-7708838f8a09"
      },
      "source": [
        "# Your answer here\n",
        "class GCN(nn.Module):\n",
        "    def __init__(self,input_size,hidden_size,output_size):\n",
        "        super(GCN, self).__init__()\n",
        "        self.input_size = input_size\n",
        "        self.hidden_size = hidden_size\n",
        "        self.output_size = output_size\n",
        "\n",
        "        self.GCN_one = GCNLayer(input_size,hidden_size)\n",
        "        self.GCN_two = GCNLayer(hidden_size,output_size)\n",
        "\n",
        "    def forward(self,x,A_hat):\n",
        "        output_one = self.GCN_one(x,A_hat)\n",
        "        output_one_relu = nnfunction.relu(output_one)\n",
        "        output_two = self.GCN_two(output_one_relu,A_hat)\n",
        "        return output_two\n",
        "\n",
        "input_features = data.x.size(1) #using feature_dim from question 1\n",
        "output_features = 5\n",
        "#  Instantiate GCNLayer\n",
        "demo_stacked_layer = GCN(input_features, output_features,output_features)\n",
        "# Forward\n",
        "input_x = data.x # retrieve the feature matrix\n",
        "stacked_result = demo_stacked_layer.forward(input_x,norm_adj_matrix)\n",
        "print(\"The shape of the output is:\",stacked_result.shape)"
      ],
      "execution_count": null,
      "outputs": [
        {
          "output_type": "stream",
          "name": "stdout",
          "text": [
            "The shape of the output is: torch.Size([2708, 5])\n"
          ]
        }
      ]
    },
    {
      "cell_type": "markdown",
      "metadata": {
        "id": "6NVB-3I5Wfkf"
      },
      "source": [
        "### GCNs for semi-supervised node classification\n",
        "\n",
        "Now that we have a GCN with two layers, we can test its performance in a node classification task. We will pass the input node features $X$ through the GCN layers, and the output will be of size $n\\times k$ where $k$ is the number of classes (which you found in question 1). The label denotes the topic an article in the citation network belongs to (e.g. physics, computer science, etc.)."
      ]
    },
    {
      "cell_type": "markdown",
      "metadata": {
        "id": "trc4dSa7cuQj"
      },
      "source": [
        "#### Question 9 (1.5 pt)\n",
        "\n",
        "Note that the `data` object contains all labels (for all splits) in `data.y`, and binary masks for the train, validation, and test splits in `data.train_mask`, `data.val_mask`, and `data.test_mask`, respectively. These masks are the same size as `data.y`, and indicate which labels belong to which split.\n",
        "\n",
        "- Create a GCN with two layers (using the class from the previous question), with 32 as the hidden dimension, and the number of output features equal to the number of classes in the Cora dataset.\n",
        "\n",
        "- Use the Adam optimizer with a learning rate of 0.01.\n",
        "\n",
        "- Implement a training loop for the GCN. At each step, pass $X$ and $\\hat{A}$ to the GCN to obtain the logits. Compute the mean cross-entropy loss **only for the training instances**, using the binary masks.\n",
        "\n",
        "- After each training step, evaluate the accuracy for the validation instances.\n",
        "\n",
        "- Train for 100 epochs. Once training is finished, plot the training loss and validation accuracy (in a graph in function of the epoch number), and report the accuracy in the test set.\n",
        "\n",
        "You should obtain an accuracy over 75% on both the validation and test sets. You can also compare your results with the original paper, which also contains results for the Cora dataset. Give a brief discussion on the results of your experiments.\n",
        "\n",
        "Note that in contrast with other tasks, like image classification on some datasets, we don't use mini-batches here. The whole matrix of features and the adjacency is passed to the GCN in one step."
      ]
    },
    {
      "cell_type": "code",
      "metadata": {
        "id": "5Z2OP_ZRWlmo",
        "colab": {
          "base_uri": "https://localhost:8080/",
          "height": 1000
        },
        "outputId": "94e38173-0c6f-4375-b36b-d09b99a72e58"
      },
      "source": [
        "# Your answer here\n",
        "import torch.optim as optim\n",
        "input_features = data.x.size(1) #using feature_dim from question 1\n",
        "output_features = len(torch.unique(data.y))\n",
        "hidden_dim = 32\n",
        "epochs = 100\n",
        "input_x = data.x\n",
        "\n",
        "# Split the dataset\n",
        "x_train,y_train = data.x[data.train_mask],data.y[data.train_mask]\n",
        "x_val,y_val = data.x[data.val_mask],data.y[data.val_mask]\n",
        "x_test,y_test = data.x[data.test_mask],data.y[data.test_mask]\n",
        "\n",
        "# Instantiate GCNLayer\n",
        "stacked_layer = GCN(input_features, hidden_dim,output_features)\n",
        "criterion = nn.CrossEntropyLoss()\n",
        "optimizer = optim.Adam(stacked_layer.parameters(), lr=0.01)\n",
        "\n",
        "# Monitor result\n",
        "train_loss = []\n",
        "val_acc = []\n",
        "\n",
        "for epoch in range(epochs):\n",
        "    #trainning\n",
        "    result = stacked_layer.forward(input_x,norm_adj_matrix)\n",
        "    loss = criterion(result[data.train_mask], y_train)\n",
        "    optimizer.zero_grad()\n",
        "    loss.backward()\n",
        "    optimizer.step()\n",
        "    train_loss.append(loss.item())\n",
        "    #Validation\n",
        "    val_result = stacked_layer.forward(input_x,norm_adj_matrix)\n",
        "    val_label = val_result[data.val_mask].argmax(1)\n",
        "    correct = torch.eq(val_label, y_val)\n",
        "    accuracy = torch.mean(correct.float())\n",
        "    val_acc.append(accuracy.item())\n",
        "    print(\"Traing loss | \",loss.item(),\"Validation accuracy \",accuracy.item())\n",
        "\n",
        "test_result = stacked_layer.forward(input_x,norm_adj_matrix)\n",
        "test_label = test_result[data.test_mask].argmax(1)\n",
        "correct = torch.eq(test_label, y_test)\n",
        "accuracy = torch.mean(correct.float())\n",
        "print(\"Test_accuracy:\",accuracy)\n",
        "\n",
        "#Plotting\n",
        "import matplotlib.pyplot as plt\n",
        "plt.figure(figsize=(12, 5))\n",
        "plt.subplot(1, 2, 1)\n",
        "plt.plot(train_loss, label='Training Loss')\n",
        "plt.xlabel('Epoch')\n",
        "plt.ylabel('Loss')\n",
        "plt.title('Training Loss')\n",
        "plt.legend()\n",
        "\n",
        "plt.subplot(1, 2, 2)\n",
        "plt.plot(val_acc, label='Validation Accuracy')\n",
        "plt.xlabel('Epoch')\n",
        "plt.ylabel('Accuracy')\n",
        "plt.title('Validation Accuracy')\n",
        "plt.legend()\n",
        "plt.show()"
      ],
      "execution_count": null,
      "outputs": [
        {
          "output_type": "stream",
          "name": "stdout",
          "text": [
            "Traing loss |  2.2687501907348633 Validation accuracy  0.23000000417232513\n",
            "Traing loss |  1.7490298748016357 Validation accuracy  0.3199999928474426\n",
            "Traing loss |  1.3744176626205444 Validation accuracy  0.4020000100135803\n",
            "Traing loss |  1.0788646936416626 Validation accuracy  0.4580000042915344\n",
            "Traing loss |  0.8320608139038086 Validation accuracy  0.5299999713897705\n",
            "Traing loss |  0.631276547908783 Validation accuracy  0.5860000252723694\n",
            "Traing loss |  0.47331875562667847 Validation accuracy  0.6340000033378601\n",
            "Traing loss |  0.354574054479599 Validation accuracy  0.6660000085830688\n",
            "Traing loss |  0.26645493507385254 Validation accuracy  0.6940000057220459\n",
            "Traing loss |  0.2006223499774933 Validation accuracy  0.7099999785423279\n",
            "Traing loss |  0.15038785338401794 Validation accuracy  0.7200000286102295\n",
            "Traing loss |  0.11196666210889816 Validation accuracy  0.7200000286102295\n",
            "Traing loss |  0.08308775722980499 Validation accuracy  0.722000002861023\n",
            "Traing loss |  0.0619300976395607 Validation accuracy  0.7279999852180481\n",
            "Traing loss |  0.046683862805366516 Validation accuracy  0.7300000190734863\n",
            "Traing loss |  0.035699572414159775 Validation accuracy  0.734000027179718\n",
            "Traing loss |  0.02767070382833481 Validation accuracy  0.7379999756813049\n",
            "Traing loss |  0.021782446652650833 Validation accuracy  0.7440000176429749\n",
            "Traing loss |  0.017400408163666725 Validation accuracy  0.7440000176429749\n",
            "Traing loss |  0.01411318127065897 Validation accuracy  0.7419999837875366\n",
            "Traing loss |  0.011612492613494396 Validation accuracy  0.7440000176429749\n",
            "Traing loss |  0.009691535495221615 Validation accuracy  0.7400000095367432\n",
            "Traing loss |  0.008192581124603748 Validation accuracy  0.7379999756813049\n",
            "Traing loss |  0.007005411200225353 Validation accuracy  0.7400000095367432\n",
            "Traing loss |  0.00604638596996665 Validation accuracy  0.7400000095367432\n",
            "Traing loss |  0.0052607059478759766 Validation accuracy  0.7400000095367432\n",
            "Traing loss |  0.004609016235917807 Validation accuracy  0.7400000095367432\n",
            "Traing loss |  0.004065028391778469 Validation accuracy  0.7400000095367432\n",
            "Traing loss |  0.0036091203801333904 Validation accuracy  0.7419999837875366\n",
            "Traing loss |  0.0032270599622279406 Validation accuracy  0.7419999837875366\n",
            "Traing loss |  0.002905838657170534 Validation accuracy  0.7440000176429749\n",
            "Traing loss |  0.0026350419502705336 Validation accuracy  0.7480000257492065\n",
            "Traing loss |  0.0024047011975198984 Validation accuracy  0.7459999918937683\n",
            "Traing loss |  0.002207734389230609 Validation accuracy  0.7459999918937683\n",
            "Traing loss |  0.002038082107901573 Validation accuracy  0.7480000257492065\n",
            "Traing loss |  0.0018901907606050372 Validation accuracy  0.7480000257492065\n",
            "Traing loss |  0.0017605002503842115 Validation accuracy  0.7480000257492065\n",
            "Traing loss |  0.001646309974603355 Validation accuracy  0.7480000257492065\n",
            "Traing loss |  0.0015455639222636819 Validation accuracy  0.7480000257492065\n",
            "Traing loss |  0.001456526224501431 Validation accuracy  0.7480000257492065\n",
            "Traing loss |  0.0013778152642771602 Validation accuracy  0.7480000257492065\n",
            "Traing loss |  0.0013083284720778465 Validation accuracy  0.7480000257492065\n",
            "Traing loss |  0.0012467646738514304 Validation accuracy  0.7480000257492065\n",
            "Traing loss |  0.0011920364340767264 Validation accuracy  0.7480000257492065\n",
            "Traing loss |  0.0011432606261223555 Validation accuracy  0.7480000257492065\n",
            "Traing loss |  0.00109969696495682 Validation accuracy  0.7480000257492065\n",
            "Traing loss |  0.001060541602782905 Validation accuracy  0.7480000257492065\n",
            "Traing loss |  0.00102527707349509 Validation accuracy  0.7480000257492065\n",
            "Traing loss |  0.000993326772004366 Validation accuracy  0.7480000257492065\n",
            "Traing loss |  0.0009642909863032401 Validation accuracy  0.7480000257492065\n",
            "Traing loss |  0.0009378124377690256 Validation accuracy  0.7480000257492065\n",
            "Traing loss |  0.0009135138825513422 Validation accuracy  0.7480000257492065\n",
            "Traing loss |  0.0008911601034924388 Validation accuracy  0.7480000257492065\n",
            "Traing loss |  0.000870518502779305 Validation accuracy  0.7480000257492065\n",
            "Traing loss |  0.0008513850625604391 Validation accuracy  0.75\n",
            "Traing loss |  0.0008335778256878257 Validation accuracy  0.75\n",
            "Traing loss |  0.0008169670472852886 Validation accuracy  0.75\n",
            "Traing loss |  0.000801430142018944 Validation accuracy  0.75\n",
            "Traing loss |  0.000786850112490356 Validation accuracy  0.75\n",
            "Traing loss |  0.0007731743389740586 Validation accuracy  0.75\n",
            "Traing loss |  0.0007602928671985865 Validation accuracy  0.75\n",
            "Traing loss |  0.0007480969652533531 Validation accuracy  0.75\n",
            "Traing loss |  0.0007365758647210896 Validation accuracy  0.75\n",
            "Traing loss |  0.0007256482494994998 Validation accuracy  0.75\n",
            "Traing loss |  0.0007152555626817048 Validation accuracy  0.7519999742507935\n",
            "Traing loss |  0.000705340935382992 Validation accuracy  0.7519999742507935\n",
            "Traing loss |  0.0006958686280995607 Validation accuracy  0.7519999742507935\n",
            "Traing loss |  0.0006867880583740771 Validation accuracy  0.7519999742507935\n",
            "Traing loss |  0.0006780805997550488 Validation accuracy  0.7540000081062317\n",
            "Traing loss |  0.0006697138887830079 Validation accuracy  0.7540000081062317\n",
            "Traing loss |  0.0006616830942220986 Validation accuracy  0.7540000081062317\n",
            "Traing loss |  0.0006539097521454096 Validation accuracy  0.7540000081062317\n",
            "Traing loss |  0.0006464324542321265 Validation accuracy  0.7540000081062317\n",
            "Traing loss |  0.0006392017821781337 Validation accuracy  0.7540000081062317\n",
            "Traing loss |  0.0006321872351691127 Validation accuracy  0.7540000081062317\n",
            "Traing loss |  0.0006254069157876074 Validation accuracy  0.7540000081062317\n",
            "Traing loss |  0.0006188162369653583 Validation accuracy  0.7540000081062317\n",
            "Traing loss |  0.0006123857456259429 Validation accuracy  0.7540000081062317\n",
            "Traing loss |  0.000606146058999002 Validation accuracy  0.7540000081062317\n",
            "Traing loss |  0.0006000606226734817 Validation accuracy  0.7540000081062317\n",
            "Traing loss |  0.0005941336276009679 Validation accuracy  0.7540000081062317\n",
            "Traing loss |  0.000588349939789623 Validation accuracy  0.7540000081062317\n",
            "Traing loss |  0.0005827011191286147 Validation accuracy  0.7540000081062317\n",
            "Traing loss |  0.000577203871216625 Validation accuracy  0.7540000081062317\n",
            "Traing loss |  0.0005718116881325841 Validation accuracy  0.7540000081062317\n",
            "Traing loss |  0.0005665245116688311 Validation accuracy  0.7540000081062317\n",
            "Traing loss |  0.0005613485118374228 Validation accuracy  0.7540000081062317\n",
            "Traing loss |  0.0005562817095778883 Validation accuracy  0.7540000081062317\n",
            "Traing loss |  0.0005513107171282172 Validation accuracy  0.7540000081062317\n",
            "Traing loss |  0.0005464133573696017 Validation accuracy  0.7540000081062317\n",
            "Traing loss |  0.0005416117492131889 Validation accuracy  0.7540000081062317\n",
            "Traing loss |  0.0005368804559111595 Validation accuracy  0.7540000081062317\n",
            "Traing loss |  0.000532247475348413 Validation accuracy  0.7540000081062317\n",
            "Traing loss |  0.0005276899901218712 Validation accuracy  0.7540000081062317\n",
            "Traing loss |  0.0005231959512457252 Validation accuracy  0.7540000081062317\n",
            "Traing loss |  0.0005188027280382812 Validation accuracy  0.7540000081062317\n",
            "Traing loss |  0.0005144705064594746 Validation accuracy  0.7540000081062317\n",
            "Traing loss |  0.0005102018476463854 Validation accuracy  0.7540000081062317\n",
            "Traing loss |  0.0005059908726252615 Validation accuracy  0.7540000081062317\n",
            "Traing loss |  0.0005018434603698552 Validation accuracy  0.7540000081062317\n",
            "Test_accuracy: tensor(0.7700)\n"
          ]
        },
        {
          "output_type": "display_data",
          "data": {
            "text/plain": [
              "<Figure size 1200x500 with 2 Axes>"
            ],
            "image/png": "[encoded data removed]"
          },
          "metadata": {}
        }
      ]
    },
    {
      "cell_type": "markdown",
      "source": [
        "From the above results, it can be observed that in our results, both the validation and test sets achieved an accuracy rate higher than 75%, yet still lower than the 81.5% accuracy rate reported in the paper results. This discrepancy may be attributed to the original paper incorporating optimization methods such as L2 regularization and Dropout, which enhanced the model's performance."
      ],
      "metadata": {
        "id": "8fMJOto3WxU1"
      }
    },
    {
      "cell_type": "markdown",
      "metadata": {
        "id": "vb5YjHVClCqo"
      },
      "source": [
        "#### Question 10 (0.5 pt)\n",
        "\n",
        "The paper introduces GCNs as a way to solve a *semi-supervised* classification problem.\n",
        "\n",
        "- What makes this problem semi-supervised?\n",
        "- What is the proportion of labeled data used for training with respect to labeled data in the validation and test sets? What is difference in this context with other benchmark tasks in machine learning, like image classification with MNIST?\n",
        "- Why do you think the GCN performs well in this semi-supervised scenario?"
      ]
    },
    {
      "cell_type": "code",
      "metadata": {
        "id": "7qw58r1MmCUJ"
      },
      "source": [
        "# Your answer here"
      ],
      "execution_count": null,
      "outputs": []
    },
    {
      "cell_type": "markdown",
      "source": [
        "Answer:\n",
        "\n",
        "a) In the mentioned paper, the problem is classified as semi-supervised due to the classification of nodes within a graph where only a small subset of nodes are labelled. This scenario, combining a limited amount of labelled data with a larger volume of unlabeled data, epitomizes semi-supervised learning. The paper addresses this challenge effectively by applying graph convolutional networks to graph-structured data\n",
        "\n",
        "b) The data split proportion was as follows:\n",
        "\n",
        "Training Set: 140 nodes for training. (8.5%)\n",
        "Validation Set: 500 nodes for validation. (30.5%)\n",
        "Test Set: 1000 nodes for testing. (61%)\n",
        "\n",
        "In the Cora dataset, labelled data used for training represents only a tiny fraction of the total data (one out of 140 nodes). In contrast, in the MNIST dataset, most of the data (one out of 60,000 training images) is used for training. Furthermore, the division of the Cora dataset reflects the need for semi-supervised learning, which utilizes a small amount of labelled data with a large amount of unlabeled data. At the same time, the MNIST dataset was divided primarily to adequately train the supervised learning model and evaluate it on a larger test set.\n",
        "\n",
        "c) The reasons contain the following:\n",
        "\n",
        "GCN overcomes the limitations of graph Laplacian regularization-based approaches: Traditional graph Laplacian regularization-based approaches can be limited because they assume that edges only represent similarities between nodes. GCN efficiently captures complex relationships between nodes by operating directly on the graph.\n",
        "\n",
        "Optimization Simplification: Compared to Skip-gram-based methods, GCN avoids complex multi-step processing procedures that are often difficult to optimize.\n",
        "\n",
        "Efficient propagation of feature information: GCN improves classification performance by propagating feature information from neighbouring nodes in each layer, outperforming methods that only aggregate label information, such as ICA."
      ],
      "metadata": {
        "id": "ocu-R8mzuN33"
      }
    },
    {
      "cell_type": "markdown",
      "metadata": {
        "id": "4ihrjZddvz5d"
      },
      "source": [
        "### Loading a dataset of proteins\n",
        "\n",
        "In the previous sections you learned how to pass the adjacency matrix of a graph with a couple of thousand of nodes, to classify each node with a particular label. A different and useful application of GCNs is graph classification.\n",
        "\n",
        "In contrast with the previous part, where there was a single, big graph, in graph classification we have multiple graphs, and each graph can be assigned a label. In this part of the assignment you will implement a classifier for proteins.\n",
        "\n",
        "[Proteins](https://en.wikipedia.org/wiki/Protein_(nutrient)) are parts of the buildings block of life. They consist of chains of amino acids, and can take many shapes. In the PROTEINS dataset, proteins are represented as graphs, where the nodes are amino acids, and an edge between them indicates that they are 6 [Angstroms](https://en.wikipedia.org/wiki/Angstrom) apart. All graphs have a binary label, where 1 means that the protein is not an enzyme.\n",
        "\n",
        "We will start by loading and examining this dataset."
      ]
    },
    {
      "cell_type": "code",
      "source": [
        "# If there is 'ModuleNotFoundError'\n",
        "# !pip install torch-geometric"
      ],
      "metadata": {
        "id": "qz2R1GizOQc7"
      },
      "execution_count": null,
      "outputs": []
    },
    {
      "cell_type": "code",
      "metadata": {
        "id": "xmqweMcvnUH6",
        "colab": {
          "base_uri": "https://localhost:8080/"
        },
        "outputId": "8b81375c-779d-4c2e-d55c-8bea0328681e"
      },
      "source": [
        "from torch_geometric.datasets import TUDataset\n",
        "dataset = TUDataset(root='data/TU', name='PROTEINS', use_node_attr=True)"
      ],
      "execution_count": 3,
      "outputs": [
        {
          "output_type": "stream",
          "name": "stderr",
          "text": [
            "Downloading https://www.chrsmrrs.com/graphkerneldatasets/PROTEINS.zip\n",
            "Extracting data/TU/PROTEINS/PROTEINS.zip\n",
            "Processing...\n",
            "Done!\n"
          ]
        }
      ]
    },
    {
      "cell_type": "markdown",
      "metadata": {
        "id": "_oF1gyKPXiz-"
      },
      "source": [
        "#### Question 11 (0.25 pt)\n",
        "\n",
        "Unlike in the previous part, where we selected the first element returned by the loading function, note that here we get all the elements returned by `TUDataset()`. `dataset` is an interable object, that has some similar behaviors as a Python list: you can call `len()` on it, and you can takes slices from it.\n",
        "\n",
        "Each element in `dataset` is a `Data` object containing a graph that represents a protein. This is the same type of object that we used in the previous part to store the Cora citation network.\n",
        "\n",
        "Knowing this, answer the following:\n",
        "\n",
        "- How many proteins (graphs) are there in `dataset`?\n",
        "- Take any protein from `dataset`. How many nodes and edges does it contain? What is its label? How many features does each node have?"
      ]
    },
    {
      "cell_type": "code",
      "metadata": {
        "id": "ZNPsnXXbbHHe",
        "colab": {
          "base_uri": "https://localhost:8080/"
        },
        "outputId": "deb29c32-3a9d-49e0-d25a-451f8ed57f70"
      },
      "source": [
        "# Your answer here\n",
        "test_protein = dataset[0]\n",
        "print(\"The number of protein is:\", len(dataset))\n",
        "print(\"The number of nodes of one protein is:\",test_protein.num_nodes)\n",
        "print(\"The number of edges of one protein is:\",test_protein.num_edges//2)\n",
        "print(\"The number of features of one protein is:\",test_protein.num_node_features)\n",
        "print(\"The label of one protein is:\",test_protein.y.item())"
      ],
      "execution_count": 5,
      "outputs": [
        {
          "output_type": "stream",
          "name": "stdout",
          "text": [
            "The number of protein is: 1113\n",
            "The number of nodes of one protein is: 42\n",
            "The number of edges of one protein is: 81\n",
            "The number of features of one protein is: 4\n",
            "The label of one protein is: 0\n"
          ]
        }
      ]
    },
    {
      "cell_type": "markdown",
      "metadata": {
        "id": "kHSklBZXpKpR"
      },
      "source": [
        "#### Question 12 (0.5 pt)\n",
        "\n",
        "To properly train and evaluate our model, we need training, validation, and test splits.\n",
        "\n",
        "For reproducibility purposes, we generate a random tensor of indices for you. Use it to extract the three splits from `dataset`.\n",
        "\n",
        "For training, take 80% of the indices (starting from the first element in `indices`), then the following 10% for validation, and the remaining 10% for testing. You can use the indices to index `dataset`.\n",
        "\n",
        "Call the resulting splits `train_dataset`, `valid_dataset`, and `test_dataset`."
      ]
    },
    {
      "cell_type": "code",
      "metadata": {
        "id": "ttY4d1GInn08"
      },
      "source": [
        "# Don't erase the following three lines\n",
        "import torch\n",
        "torch.random.manual_seed(0)\n",
        "indices = torch.randperm(len(dataset))\n",
        "\n",
        "# Your answer here\n",
        "total = len(dataset)\n",
        "train_indices = indices[:int(0.8*total)]\n",
        "val_indices = indices[int(0.8*total):(int(0.9*total))]\n",
        "test_indices = indices[int(0.9*total):]\n",
        "train_dataset = torch.utils.data.Subset(dataset, train_indices)\n",
        "valid_dataset = torch.utils.data.Subset(dataset, val_indices)\n",
        "test_dataset = torch.utils.data.Subset(dataset, test_indices)"
      ],
      "execution_count": null,
      "outputs": []
    },
    {
      "cell_type": "markdown",
      "metadata": {
        "id": "rDJbB4CQqsfp"
      },
      "source": [
        "### Working with a batch of graphs\n",
        "\n",
        "When working with the Cora dataset, you used the information in `data.edge_index` to build the sparse normalized adjacency matrix $\\hat{A}$ that is required by the GCN. We could do something similar here: for each graph, we build $\\hat{A}$, and pass it to the GCN. However, if the number of graphs is big, this can really slow down training.\n",
        "\n",
        "To avoid this, we will resort to a very useful trick that also allows us to reuse the same GCN you implemented previously. The trick makes it possible to do a forward pass through the GCN for multiple, disconnected graphs at the same time (instead of only one), much like when you train with mini-batches for other kinds of data.\n",
        "\n",
        "Let's first revisit the propagation rule of the GCN, $Z = \\hat{A}XW$, with an illustration (we have omitted the cells of $X$ and $W$ for clarity):\n",
        "\n",
        "<img src=\"https://raw.githubusercontent.com/dfdazac/dlvu-a5/main/img/02-gcn-forward.png\">\n",
        "\n",
        "If we have multiple graphs, we can still use the same propagation rule, if we\n",
        "\n",
        "- Set $\\hat{A}$ to be a block diagonal matrix, where the blocks are the different adjacency matrices of the graphs\n",
        "- Concatenate the feature matrices along the first dimension\n",
        "\n",
        "This is illustrated in the following figure, for a batch of 3 graphs. Note that the elements outside of the blocks are zero.\n",
        "\n",
        "<img src=\"https://raw.githubusercontent.com/dfdazac/dlvu-a5/main/img/02-gcn-batch-forward.png\">\n",
        "\n",
        "The resulting adjacency matrix $\\hat{A}_B$ can also be built as a sparse matrix, and once we have it together with the concatenated matrix of features, the computation of the graph convolution is exactly the same as before. Note how this trick also allows us to process graphs with different sizes and structures.\n"
      ]
    },
    {
      "cell_type": "markdown",
      "metadata": {
        "id": "0DLPJ62b2mQ6"
      },
      "source": [
        "#### Question 13 (0.5 pt)\n",
        "\n",
        "\n",
        "Just as the citation network, the graphs in each of the datasets you created in Question 12 also have an `edge_index` attribute, which can be used to compute the normalized adjacency matrix $\\hat{A}$, for each graph.\n",
        "\n",
        "Reusing your code for Questions 3 and 5, define a function `get_a_norm()` that takes as input an element of a dataset (e.g. `train_dataset[0]`), and returns a `scipy.sparse` matrix containing $\\hat{A}$.\n",
        "\n",
        "Note that an element of a dataset has properties like `num_edges`, `num_nodes`, etc. which you can use here."
      ]
    },
    {
      "cell_type": "code",
      "metadata": {
        "id": "4nvPX2GB8oXp"
      },
      "source": [
        "# Your answer here\n",
        "from scipy.sparse import coo_matrix, diags\n",
        "import numpy as np\n",
        "\n",
        "from scipy.sparse import coo_matrix, diags, eye\n",
        "\n",
        "def get_a_norm(data):\n",
        "    # indexes and adjacency matrix\n",
        "    edge_index = data.edge_index.numpy()\n",
        "    num_nodes = data.num_nodes\n",
        "    rows, cols = edge_index\n",
        "    values = np.ones(rows.shape[0]*2)\n",
        "    adj_matrix = coo_matrix(\n",
        "        (values, (np.hstack([rows, cols]), np.hstack([cols, rows]))),\n",
        "        shape=(num_nodes, num_nodes)\n",
        "    )\n",
        "\n",
        "    adj_matrix = adj_matrix + eye(num_nodes)\n",
        "\n",
        "    # inverse square root\n",
        "    degrees = np.array(adj_matrix.sum(1)).flatten()\n",
        "    degrees_inv_sqrt = 1. / np.sqrt(degrees)\n",
        "    degree_matrix_inv_sqrt = diags(degrees_inv_sqrt)\n",
        "\n",
        "    # normalized adjacency matrix\n",
        "    norm_adj_matrix = degree_matrix_inv_sqrt @ adj_matrix @ degree_matrix_inv_sqrt\n",
        "\n",
        "    return norm_adj_matrix\n",
        "\n"
      ],
      "execution_count": null,
      "outputs": []
    },
    {
      "cell_type": "markdown",
      "metadata": {
        "id": "cBrmYBY3AfhW"
      },
      "source": [
        "#### Question 14 (1 pt)\n",
        "\n",
        "To prepare the batch of graphs, we need to collect multiple adjacency matrices, feature matrices, and labels.\n",
        "\n",
        "When using the trick described in the last figure, we see that we have to keep track of when a graph starts and when it ends, so that we can later differentiate the outputs due to $X^{(0)}$, $X^{(1)}$, etc. To achieve this, we will additionally collect a 1D array of batch indices, one for each $X^{(i)}$.\n",
        "\n",
        "The 1D array has as many elements as rows in $X^{(i)}$, and it is filled with the value $i$ (the position of $X^{(i)}$ in the batch):\n",
        "\n",
        "<img src=\"https://raw.githubusercontent.com/dfdazac/dlvu-a5/main/img/03-batch-indices.png\">\n",
        "\n",
        "We will later concatenate all the 1D arrays along the first dimension, just as we will do with all the $X^{(i)}$.\n",
        "\n",
        "Define a function `prepare_graphs_batch()` that takes as input a dataset (e.g. `train_dataset`), and does the following\n",
        "\n",
        "- Create four empty lists:\n",
        "  - `adj_matrices`\n",
        "  - `feature_matrices`\n",
        "  - `batch_indices`\n",
        "  - `labels`\n",
        "- Iterate over the input dataset, getting one graph at a time. At each step, use your function from Question 13 to append the adjacency matrix to `adj_matrices`, append the matrix of input features to `feature_matrices`, create the array of batch indices (as explained above) and append it to `batch_indices`, and append the label of the graph to `labels`. **Make sure to convert the label to float**.\n",
        "- Once the loop is over, use `scipy.sparse.block_diag()` to build the block diagonal matrix $\\hat{A}_B$. Convert it to the COO format, and then use your answer to Question 6 to turn it into a sparse PyTorch tensor.\n",
        "- Use `torch.cat()` to concatenate the tensors in `feature_matrices` along the first dimension. Do this also for `batch_indices` and `labels`.\n",
        "- Return the 4 tensors computed in the previous two items."
      ]
    },
    {
      "cell_type": "code",
      "metadata": {
        "id": "SsQ0-JjSqFgD"
      },
      "source": [
        "# Your answer here\n",
        "from scipy.sparse import block_diag\n",
        "import torch\n",
        "\n",
        "def prepare_graphs_batch(dataset):\n",
        "    adj_matrices = []\n",
        "    feature_matrices = []\n",
        "    batch_indices = []\n",
        "    labels = []\n",
        "\n",
        "    for i, data in enumerate(dataset):\n",
        "        adj_matrices.append(get_a_norm(data).tocoo())\n",
        "        feature_matrices.append(data.x)\n",
        "        batch_indices.append(torch.full((data.num_nodes,), i, dtype=torch.long))\n",
        "        labels.append(data.y.float())\n",
        "\n",
        "    A_B = block_diag([adj.tocsr() for adj in adj_matrices])\n",
        "    A_B = A_B.tocoo()\n",
        "\n",
        "    indices = torch.LongTensor([A_B.row, A_B.col])\n",
        "\n",
        "    A_B_tensor = torch.sparse_coo_tensor(\n",
        "        indices,\n",
        "        torch.FloatTensor(A_B.data),\n",
        "        A_B.shape\n",
        "    )\n",
        "\n",
        "    X_B = torch.cat(feature_matrices, dim=0)\n",
        "    batch_indices_tensor = torch.cat(batch_indices, dim=0)\n",
        "    labels_tensor = torch.cat(labels, dim=0)\n",
        "\n",
        "    return A_B_tensor, X_B, batch_indices_tensor, labels_tensor"
      ],
      "execution_count": null,
      "outputs": []
    },
    {
      "cell_type": "markdown",
      "metadata": {
        "id": "i73P_EU0MSPX"
      },
      "source": [
        "Once your answer for the previous question is ready, you can run the next cell to prepare all the required information, for the train, validation, and test splits."
      ]
    },
    {
      "cell_type": "code",
      "metadata": {
        "id": "Iol5FxJGMmAU"
      },
      "source": [
        "train_a_norm, train_features, train_batch_idx, train_labels = prepare_graphs_batch(train_dataset)\n",
        "valid_a_norm, valid_features, valid_batch_idx, valid_labels = prepare_graphs_batch(valid_dataset)\n",
        "test_a_norm, test_features, test_batch_idx, test_labels = prepare_graphs_batch(test_dataset)"
      ],
      "execution_count": null,
      "outputs": []
    },
    {
      "cell_type": "markdown",
      "metadata": {
        "id": "R6q-JU87NClh"
      },
      "source": [
        "### GCNs for graph classification\n",
        "\n",
        "We now have all the ingredients to pass a batch of graphs to a GCN. However, for each graph in the batch, the output $Z^{(i)}$ contains one row for each node in the graph. If the goal is to do classification at the graph level, we have to *pool* these vectors to then compute the required logits for classification.\n",
        "\n",
        "This operation is similar as how pooling works in a CNN. We could consider taking the mean of the vectors, the sum, or use max-pooling. The difference with respect to CNNs is that in our case, we have a batch of graphs, each potentially with a different number of nodes.\n",
        "\n",
        "To implement this specific pooling, we can use the scatter operation in the `torch_scatter` library, which comes when installing PyG. We will use it, together with the tensor of batch indices from the previous two questions, to pool the outputs of the GCN for each graph, into a single vector:\n",
        "\n",
        "<img src=\"https://raw.githubusercontent.com/dfdazac/dlvu-a5/main/img/04-scatter.png\">\n",
        "\n",
        "You can check more details in the [documentation](https://pytorch-scatter.readthedocs.io/en/latest/functions/scatter.html)."
      ]
    },
    {
      "cell_type": "markdown",
      "metadata": {
        "id": "QY87DX1uRhnY"
      },
      "source": [
        "#### Question 15 (1.0 pt)\n",
        "\n",
        "Implement a `GraphClassifier` module using PyTorch.\n",
        "\n",
        "- The constructor should take as arguments the number of input features, the hidden dimension, and the number of classes.\n",
        "- The model should contain a instance of the `GCN` module (as you implemented it in Question 8). Use the same value for the hidden dimension and the number of output features (recall that your `GCN` module from Question 8 has two GCN layers).\n",
        "- The model should also contain a `torch.nn.Linear` layer, with the hidden dimension as the input features, and the number of classes as the output.\n",
        "- The forward method receives the concatenated matrix of features, the sparse block diagonal adjacency matrix, and the batch indices (the latter is used when calling `scatter`).\n",
        "- Use the following architecture in the forward pass:\n",
        "  - GCN $\\to$ ReLU $\\to$ scatter (max) $\\to$ Linear.\n",
        "\n",
        "The output of the forward should be a 1D tensor (you might need to call `squeeze` to get rid of extra dimensions) containing the logits for all graphs in the batch, for the binary classification task."
      ]
    },
    {
      "cell_type": "code",
      "source": [
        "# Ensure CUDA version compatibility\n",
        "# import torch\n",
        "# print(torch.__version__)\n",
        "# print(torch.version.cuda)\n",
        "# 2.1.0+cu121\n",
        "# 12.1\n",
        "\n",
        "# if there is ModuleNotFoundError about scatter:\n",
        "# !pip uninstall torch-scatter -y\n",
        "# !pip install torch-scatter -f https://pytorch-geometric.com/whl/torch-2.1.0+cu121.html\n"
      ],
      "metadata": {
        "id": "1AlpnuFhIyc7"
      },
      "execution_count": null,
      "outputs": []
    },
    {
      "cell_type": "code",
      "metadata": {
        "id": "750WraywwYDH"
      },
      "source": [
        "# Your answer here\n",
        "import torch\n",
        "import torch.nn as nn\n",
        "import torch.nn.functional as F\n",
        "from torch_scatter import scatter_max\n",
        "\n",
        "class GraphClassifier(nn.Module):\n",
        "    def __init__(self, input_dim, hidden_dim, num_classes):\n",
        "        super(GraphClassifier, self).__init__()\n",
        "\n",
        "        # Initialize GCN\n",
        "        self.gcn = GCN(input_dim, hidden_dim, hidden_dim)\n",
        "\n",
        "        # Linear\n",
        "        self.linear = nn.Linear(hidden_dim, num_classes)\n",
        "\n",
        "    def forward(self, x, A_B, batch_indices):\n",
        "        x = self.gcn(x, A_B)\n",
        "\n",
        "        # There is no need to apply the ReLU activation function again, as it has already been applied in the GCN layer\n",
        "        x_pool, _ = scatter_max(x, batch_indices, dim=0)\n",
        "\n",
        "        # Linear\n",
        "        logits = self.linear(x_pool)\n",
        "\n",
        "        logits = logits.squeeze()\n",
        "\n",
        "        return logits\n",
        "\n",
        "class GCNLayer(nn.Module):\n",
        "    def __init__(self, input_size, output_size):\n",
        "        super(GCNLayer, self).__init__()\n",
        "        # weight matrix\n",
        "        self.w = nn.Parameter(torch.Tensor(input_size, output_size))\n",
        "        # 使用kaiming_uniform初始化\n",
        "        nn.init.kaiming_uniform_(self.w, mode='fan_in', nonlinearity='relu')\n",
        "\n",
        "    def forward(self, x, A_hat):\n",
        "        # graph convolution operation\n",
        "        support = torch.spmm(A_hat, x)\n",
        "        Z = torch.mm(support, self.w)\n",
        "        return Z\n",
        "\n",
        "class GCN(nn.Module):\n",
        "    def __init__(self, input_size, hidden_size, output_size):\n",
        "        super(GCN, self).__init__()\n",
        "        self.gcn1 = GCNLayer(input_size, hidden_size)\n",
        "        self.gcn2 = GCNLayer(hidden_size, output_size)\n",
        "\n",
        "    def forward(self, x, A_hat):\n",
        "        x = F.relu(self.gcn1(x, A_hat))\n",
        "        x = self.gcn2(x, A_hat)\n",
        "        return x\n"
      ],
      "execution_count": null,
      "outputs": []
    },
    {
      "cell_type": "markdown",
      "metadata": {
        "id": "C1PHy-_vTjgh"
      },
      "source": [
        "#### Question 16 (1.5 pt)\n",
        "\n",
        "Implement a training loop for the graph classifier. Use the data from Question 14 to train and evaluate the model.\n",
        "\n",
        "We encourage you to use a GPU in this section for faster training. Note that if you change the runtime at this point, you must re-execute several of the cells above, including the ones that install PyG.\n",
        "\n",
        "- Instantiate a classifier with 32 as the hidden dimension\n",
        "- Use Adam with a learning rate of 1e-3.\n",
        "- Use `torch.nn.BCEWithLogitsLoss` as the loss function.\n",
        "- Train for 5,000 epochs. Once training is done, plot the loss curve and the accuracy in the validation set. Then report the accuracy in the test set.\n",
        "\n",
        "**Note:** the logits from the output of the classifier come from a linear layer. To compute actual predictions for the calculation of the accuracy, pass the logits through `torch.sigmoid()`, and set the predicted values to 1 whenever they are greater than 0.5, and to 0 otherwise.\n",
        "\n",
        "You should get an accuracy equal to or higher than 70% in the validation and test sets. Can you beat the [state-of-the-art](https://paperswithcode.com/sota/graph-classification-on-proteins)? Feel free to modify your architecture and experiment with it.\n",
        "\n",
        "Discuss what you observe during training and your results."
      ]
    },
    {
      "cell_type": "code",
      "metadata": {
        "id": "9DbGAs8W2Xja",
        "colab": {
          "base_uri": "https://localhost:8080/",
          "height": 1000
        },
        "outputId": "ab644832-d2db-4586-972c-c5a2d84c275a"
      },
      "source": [
        "# If your runtime is GPU-enabled, use .to(device) to move the model\n",
        "# and all the relevant tensors to the GPU. You have to move tensors back to CPU\n",
        "# when computing metrics like accuracy, using .cpu().\n",
        "device = torch.device('cuda') if torch.cuda.is_available() else 'cpu'\n",
        "\n",
        "# Your answer here\n",
        "import torch\n",
        "import torch.optim as optim\n",
        "import torch.nn.functional as F\n",
        "import matplotlib.pyplot as plt\n",
        "\n",
        "# Check GPU\n",
        "# device = torch.device('cuda' if torch.cuda.is_available() else 'cpu')\n",
        "\n",
        "model = GraphClassifier(input_dim=train_features.shape[1], hidden_dim=32, num_classes=1).to(device)\n",
        "\n",
        "optimizer = optim.Adam(model.parameters(), lr=1e-3)\n",
        "\n",
        "criterion = torch.nn.BCEWithLogitsLoss()\n",
        "\n",
        "# prepare data\n",
        "def prepare_data(dataset):\n",
        "    A, X, batch_indices, labels = prepare_graphs_batch(dataset)\n",
        "    return A.to(device), X.to(device), batch_indices.to(device), labels.to(device)\n",
        "\n",
        "train_A, train_X, train_batch_idx, train_labels = prepare_data(train_dataset)\n",
        "valid_A, valid_X, valid_batch_idx, valid_labels = prepare_data(valid_dataset)\n",
        "test_A, test_X, test_batch_idx, test_labels = prepare_data(test_dataset)\n",
        "\n",
        "# training\n",
        "def train():\n",
        "    model.train()\n",
        "    optimizer.zero_grad()\n",
        "    logits = model(train_X, train_A, train_batch_idx)\n",
        "    loss = criterion(logits, train_labels)\n",
        "    loss.backward()\n",
        "    optimizer.step()\n",
        "    return loss.item()\n",
        "\n",
        "# validation\n",
        "def validate():\n",
        "    model.eval()\n",
        "    with torch.no_grad():\n",
        "        logits = model(valid_X, valid_A, valid_batch_idx)\n",
        "        predictions = torch.sigmoid(logits) > 0.5\n",
        "        correct = (predictions == valid_labels).sum().item()\n",
        "        return correct / len(valid_labels)\n",
        "\n",
        "# Training and validation\n",
        "losses = []\n",
        "val_accuracies = []\n",
        "\n",
        "for epoch in range(5000):\n",
        "    loss = train()\n",
        "    if epoch % 100 == 0:\n",
        "        val_acc = validate()\n",
        "        val_accuracies.append(val_acc)\n",
        "        print(f\"Epoch {epoch}, Loss: {loss}, Validation Accuracy: {val_acc}\")\n",
        "    losses.append(loss)\n",
        "\n",
        "# result of the 5000th\n",
        "loss = train()\n",
        "val_acc = validate()\n",
        "val_accuracies.append(val_acc)\n",
        "print(f\"Epoch 5000, Loss: {loss}, Validation Accuracy: {val_acc}\")\n",
        "\n",
        "# loss curves\n",
        "plt.figure(figsize=(10, 4))\n",
        "plt.subplot(1, 2, 1)\n",
        "plt.plot(losses)\n",
        "plt.title(\"Training Loss\")\n",
        "plt.xlabel(\"Epoch\")\n",
        "plt.ylabel(\"Loss\")\n",
        "\n",
        "# validation accuracy curve\n",
        "plt.subplot(1, 2, 2)\n",
        "plt.plot(val_accuracies)\n",
        "plt.title(\"Validation Accuracy\")\n",
        "plt.xlabel(\"Epoch\")\n",
        "plt.ylabel(\"Accuracy\")\n",
        "plt.show()\n",
        "\n",
        "# accuracy of the test set\n",
        "def test():\n",
        "    model.eval()\n",
        "    with torch.no_grad():\n",
        "        logits = model(test_X, test_A, test_batch_idx)\n",
        "        predictions = torch.sigmoid(logits) > 0.5\n",
        "        correct = (predictions == test_labels).sum().item()\n",
        "        return correct / len(test_labels)\n",
        "\n",
        "test_acc = test()\n",
        "print(f\"Test Accuracy: {test_acc}\")\n"
      ],
      "execution_count": null,
      "outputs": [
        {
          "output_type": "stream",
          "name": "stdout",
          "text": [
            "Epoch 0, Loss: 0.6293536424636841, Validation Accuracy: 0.7207207207207207\n",
            "Epoch 100, Loss: 0.5961557626724243, Validation Accuracy: 0.7297297297297297\n",
            "Epoch 200, Loss: 0.5644866228103638, Validation Accuracy: 0.7207207207207207\n",
            "Epoch 300, Loss: 0.5484504103660583, Validation Accuracy: 0.7567567567567568\n",
            "Epoch 400, Loss: 0.5371850728988647, Validation Accuracy: 0.7747747747747747\n",
            "Epoch 500, Loss: 0.5272728204727173, Validation Accuracy: 0.7837837837837838\n",
            "Epoch 600, Loss: 0.5144784450531006, Validation Accuracy: 0.7927927927927928\n",
            "Epoch 700, Loss: 0.5018688440322876, Validation Accuracy: 0.7927927927927928\n",
            "Epoch 800, Loss: 0.4915409982204437, Validation Accuracy: 0.7927927927927928\n",
            "Epoch 900, Loss: 0.4843033254146576, Validation Accuracy: 0.8018018018018018\n",
            "Epoch 1000, Loss: 0.47872060537338257, Validation Accuracy: 0.8198198198198198\n",
            "Epoch 1100, Loss: 0.47248175740242004, Validation Accuracy: 0.8198198198198198\n",
            "Epoch 1200, Loss: 0.46728694438934326, Validation Accuracy: 0.8198198198198198\n",
            "Epoch 1300, Loss: 0.4638706147670746, Validation Accuracy: 0.8198198198198198\n",
            "Epoch 1400, Loss: 0.4602087140083313, Validation Accuracy: 0.8288288288288288\n",
            "Epoch 1500, Loss: 0.4571114778518677, Validation Accuracy: 0.8288288288288288\n",
            "Epoch 1600, Loss: 0.4540599286556244, Validation Accuracy: 0.8288288288288288\n",
            "Epoch 1700, Loss: 0.45077061653137207, Validation Accuracy: 0.8378378378378378\n",
            "Epoch 1800, Loss: 0.4481137990951538, Validation Accuracy: 0.8288288288288288\n",
            "Epoch 1900, Loss: 0.4455502927303314, Validation Accuracy: 0.8378378378378378\n",
            "Epoch 2000, Loss: 0.4427984654903412, Validation Accuracy: 0.8378378378378378\n",
            "Epoch 2100, Loss: 0.4405461251735687, Validation Accuracy: 0.8378378378378378\n",
            "Epoch 2200, Loss: 0.4378366470336914, Validation Accuracy: 0.8378378378378378\n",
            "Epoch 2300, Loss: 0.4352017343044281, Validation Accuracy: 0.8378378378378378\n",
            "Epoch 2400, Loss: 0.43321534991264343, Validation Accuracy: 0.8378378378378378\n",
            "Epoch 2500, Loss: 0.43126749992370605, Validation Accuracy: 0.8468468468468469\n",
            "Epoch 2600, Loss: 0.4291422963142395, Validation Accuracy: 0.8468468468468469\n",
            "Epoch 2700, Loss: 0.42725199460983276, Validation Accuracy: 0.8378378378378378\n",
            "Epoch 2800, Loss: 0.4254445731639862, Validation Accuracy: 0.8378378378378378\n",
            "Epoch 2900, Loss: 0.4236171543598175, Validation Accuracy: 0.8468468468468469\n",
            "Epoch 3000, Loss: 0.421639621257782, Validation Accuracy: 0.8468468468468469\n",
            "Epoch 3100, Loss: 0.4193693995475769, Validation Accuracy: 0.8468468468468469\n",
            "Epoch 3200, Loss: 0.41752293705940247, Validation Accuracy: 0.8468468468468469\n",
            "Epoch 3300, Loss: 0.4152223765850067, Validation Accuracy: 0.8558558558558559\n",
            "Epoch 3400, Loss: 0.4129463732242584, Validation Accuracy: 0.8378378378378378\n",
            "Epoch 3500, Loss: 0.4108133912086487, Validation Accuracy: 0.8558558558558559\n",
            "Epoch 3600, Loss: 0.40929141640663147, Validation Accuracy: 0.8558558558558559\n",
            "Epoch 3700, Loss: 0.4079177677631378, Validation Accuracy: 0.8378378378378378\n",
            "Epoch 3800, Loss: 0.40622591972351074, Validation Accuracy: 0.8468468468468469\n",
            "Epoch 3900, Loss: 0.404649943113327, Validation Accuracy: 0.8558558558558559\n",
            "Epoch 4000, Loss: 0.4033196270465851, Validation Accuracy: 0.8378378378378378\n",
            "Epoch 4100, Loss: 0.4018794000148773, Validation Accuracy: 0.8468468468468469\n",
            "Epoch 4200, Loss: 0.4007750153541565, Validation Accuracy: 0.8378378378378378\n",
            "Epoch 4300, Loss: 0.3996482491493225, Validation Accuracy: 0.8378378378378378\n",
            "Epoch 4400, Loss: 0.39848676323890686, Validation Accuracy: 0.8378378378378378\n",
            "Epoch 4500, Loss: 0.3980503976345062, Validation Accuracy: 0.8378378378378378\n",
            "Epoch 4600, Loss: 0.39660701155662537, Validation Accuracy: 0.8558558558558559\n",
            "Epoch 4700, Loss: 0.395193874835968, Validation Accuracy: 0.8378378378378378\n",
            "Epoch 4800, Loss: 0.39422985911369324, Validation Accuracy: 0.8378378378378378\n",
            "Epoch 4900, Loss: 0.3934458792209625, Validation Accuracy: 0.8468468468468469\n",
            "Epoch 5000, Loss: 0.3921312689781189, Validation Accuracy: 0.8378378378378378\n"
          ]
        },
        {
          "output_type": "display_data",
          "data": {
            "text/plain": [
              "<Figure size 1000x400 with 2 Axes>"
            ],
            "image/png": "[encoded data removed]"
          },
          "metadata": {}
        },
        {
          "output_type": "stream",
          "name": "stdout",
          "text": [
            "Test Accuracy: 0.7232142857142857\n"
          ]
        }
      ]
    },
    {
      "cell_type": "markdown",
      "source": [
        "Discussion:\n",
        "\n",
        "(1) Training Loss: The loss curve indicates that the model learns and improves over time. After an initial rapid decline, the loss gradually levels off, indicating near convergence.\n",
        "\n",
        "(2) Validation Accuracy: Accuracy improves with increasing epoch, showing the model's ability to learn. Despite slight fluctuations, the accuracy stays at a high level, showing good generalization.\n",
        "\n",
        "(3) Test Accuracy: The accuracy of the test set reaches 72.3%, demonstrating that the model has reasonable prediction ability for unknown data, although slightly lower than the validation set performance.\n",
        "\n",
        "(4) Overfitting: Small fluctuations in the accuracy curve at some points may mean that some epochs are slightly overfitted on the validation set. But overall, the generalization performance of the model is improving.\n",
        "\n",
        "(5) Early Stopping: The implementation of early stopping can be considered as a preventive measure. Avoid continuing ineffective training when the accuracy is no longer improving, so as to save time and computational resources. A \"patience\" parameter can be set to stop training if the accuracy does not improve after a certain number of epochs; second, although the current risk of overfitting is not high, early stopping can be used as a precautionary measure to prevent performance degradation in future training.\n",
        "\n",
        "(6) Possible Strategies for Improvement:\n",
        "> (a) Regularization: If fluctuations are a sign of overfitting, try adding a Dropout layer or using L2 regularization.\n",
        "\n",
        "> (b) Activation functions and optimizers: try different activation functions (e.g. LeakyReLU) or other optimizers (e.g. AdamW).\n",
        "\n",
        "> (c) Pooling strategies: improved graph pooling methods, such as using global average pooling or attention mechanisms, may better summarize graph features.\n",
        "\n",
        "\n"
      ],
      "metadata": {
        "id": "pqQx2Wh2H3E2"
      }
    },
    {
      "cell_type": "markdown",
      "metadata": {
        "id": "MvmAfDNMcnKD"
      },
      "source": [
        "## The end\n",
        "\n",
        "If you have made it all the way here successfully, congratulations! 🎉\n",
        "\n",
        "You have implemented your own GCN and tested it on a node classification task, and a more challenging classification task over multiple graphs.\n",
        "\n",
        "We hope you can use this knowledge to apply GCNs not only to the tasks described here, but other applications where data can be modeled as a graph.\n",
        "\n",
        "If you are interested in applying graph neural networks to larger graphs, or try newer architectures, you can dive deeper into [PyTorch Geometric](https://pytorch-geometric.readthedocs.io/en/latest/), a library with fast implementations for a wide range of architectures. It also comes with custom code that takes care of aspects that you dealt with manually for this assignment, like a more efficient implementation of the adjacency matrix multiplication via message-passing methods, and Data Loaders that relieve you from having to build block diagonal sparse matrices.\n",
        "\n",
        "You can also check the [Deep Graph Library](https://docs.dgl.ai/) another powerful library for deep learning on graphs which also integrates with other backends like TensorFlow."
      ]
    },
    {
      "cell_type": "markdown",
      "metadata": {
        "id": "l7QhyAMms8-L"
      },
      "source": [
        "# Grading (10pt)"
      ]
    },
    {
      "cell_type": "markdown",
      "metadata": {
        "id": "juIdxXhos-mV"
      },
      "source": [
        "- Question 1: 0.25pt\n",
        "- Question 2: 0.25pt\n",
        "- Question 3: 0.5pt\n",
        "- Question 4: 0.25pt\n",
        "- Question 5: 0.5pt\n",
        "- Question 6: 0.5pt\n",
        "- Question 7: 0.5pt\n",
        "- Question 8: 0.5pt\n",
        "- Question 9: 1.5pt\n",
        "- Question 10: 0.5pt\n",
        "- Question 11: 0.25pt\n",
        "- Question 12: 0.5pt\n",
        "- Question 13: 0.5pt\n",
        "- Question 14: 1pt\n",
        "- Question 15: 1pt\n",
        "- Question 16: 1.5pt"
      ]
    }
  ]
}